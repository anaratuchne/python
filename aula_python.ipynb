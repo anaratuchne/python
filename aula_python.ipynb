{
  "nbformat": 4,
  "nbformat_minor": 0,
  "metadata": {
    "colab": {
      "provenance": [],
      "include_colab_link": true
    },
    "kernelspec": {
      "name": "python3",
      "display_name": "Python 3"
    },
    "language_info": {
      "name": "python"
    }
  },
  "cells": [
    {
      "cell_type": "markdown",
      "metadata": {
        "id": "view-in-github",
        "colab_type": "text"
      },
      "source": [
        "<a href=\"https://colab.research.google.com/github/anaratuchne/python/blob/main/aula_python.ipynb\" target=\"_parent\"><img src=\"https://colab.research.google.com/assets/colab-badge.svg\" alt=\"Open In Colab\"/></a>"
      ]
    },
    {
      "cell_type": "code",
      "execution_count": null,
      "metadata": {
        "id": "9WlluhpOhzBp"
      },
      "outputs": [],
      "source": []
    },
    {
      "cell_type": "markdown",
      "source": [
        "#**Aula 1** 🥀 ⛪ ✨"
      ],
      "metadata": {
        "id": "oR72NFJCiLQJ"
      }
    },
    {
      "cell_type": "code",
      "source": [
        "print(\"I competição de programação de Start\")\n",
        "ano = \"II\"\n",
        "print(f\"{ano}cpmpetição de programação da Start\")"
      ],
      "metadata": {
        "id": "t7JGnAoQjWmu"
      },
      "execution_count": null,
      "outputs": []
    },
    {
      "cell_type": "markdown",
      "source": [
        "#**Aula 2** ⭐ ⛺ 💓"
      ],
      "metadata": {
        "id": "8Nm-L1QGo8PS"
      }
    },
    {
      "cell_type": "code",
      "source": [
        "livro_ficcao = 8\n",
        "livro_n_ficcao = 10\n",
        "livro_infantil = 6\n",
        "ponto_rodrigo = livro ficcao + livri infatil\n",
        "pontos_ana = 2 * livro_infantil\n",
        "pontos_totais = pontos_rodrigo + pontos_ana\n",
        "print(f\"os pontos do rodrigo são{pontos_rodrigo}\")\n",
        "print(f\"os pontos totais da ana são{pontos_ana}\")\n",
        "print(f\"os pontos totais do rodrigo e da ana são{pontos_totais}\")\n"
      ],
      "metadata": {
        "id": "VaD8GcwrphLu"
      },
      "execution_count": null,
      "outputs": []
    }
  ]
}